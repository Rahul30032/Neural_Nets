{
  "nbformat": 4,
  "nbformat_minor": 0,
  "metadata": {
    "colab": {
      "name": "LSTM_Sine_wave.ipynb",
      "provenance": [],
      "collapsed_sections": [],
      "include_colab_link": true
    },
    "kernelspec": {
      "name": "python3",
      "display_name": "Python 3"
    }
  },
  "cells": [
    {
      "cell_type": "markdown",
      "metadata": {
        "id": "view-in-github",
        "colab_type": "text"
      },
      "source": [
        "<a href=\"https://colab.research.google.com/github/Rahul30032/Neural_Nets/blob/master/LSTM_Sine_wave.ipynb\" target=\"_parent\"><img src=\"https://colab.research.google.com/assets/colab-badge.svg\" alt=\"Open In Colab\"/></a>"
      ]
    },
    {
      "cell_type": "code",
      "metadata": {
        "id": "GeZ1LtBFlede",
        "colab_type": "code",
        "colab": {
          "base_uri": "https://localhost:8080/",
          "height": 80
        },
        "outputId": "987eae25-e9da-4b07-fbe1-8d516c85fc68"
      },
      "source": [
        "import numpy as np\n",
        "from tensorflow.keras.models import Sequential\n",
        "from tensorflow.keras.layers import LSTM\n",
        "from tensorflow.keras.layers import Dense\n",
        "import matplotlib.pyplot as plt\n",
        "import numpy as np"
      ],
      "execution_count": 1,
      "outputs": [
        {
          "output_type": "display_data",
          "data": {
            "text/html": [
              "<p style=\"color: red;\">\n",
              "The default version of TensorFlow in Colab will soon switch to TensorFlow 2.x.<br>\n",
              "We recommend you <a href=\"https://www.tensorflow.org/guide/migrate\" target=\"_blank\">upgrade</a> now \n",
              "or ensure your notebook will continue to use TensorFlow 1.x via the <code>%tensorflow_version 1.x</code> magic:\n",
              "<a href=\"https://colab.research.google.com/notebooks/tensorflow_version.ipynb\" target=\"_blank\">more info</a>.</p>\n"
            ],
            "text/plain": [
              "<IPython.core.display.HTML object>"
            ]
          },
          "metadata": {
            "tags": []
          }
        }
      ]
    },
    {
      "cell_type": "markdown",
      "metadata": {
        "id": "ob0HyJG1tnvW",
        "colab_type": "text"
      },
      "source": [
        ""
      ]
    },
    {
      "cell_type": "code",
      "metadata": {
        "id": "i02CrHpttQ0h",
        "colab_type": "code",
        "colab": {}
      },
      "source": [
        "model = Sequential()\n",
        "model.add(LSTM(10, activation='tanh'))\n",
        "model.add(Dense(1, activation='tanh'))\n",
        "model.compile(optimizer='adam', loss='mse')"
      ],
      "execution_count": 0,
      "outputs": []
    },
    {
      "cell_type": "code",
      "metadata": {
        "id": "_QO_gyojtVgx",
        "colab_type": "code",
        "colab": {}
      },
      "source": [
        "def train_function(x):\n",
        "    return np.sin(x)"
      ],
      "execution_count": 0,
      "outputs": []
    },
    {
      "cell_type": "code",
      "metadata": {
        "id": "WymFvL9stvLO",
        "colab_type": "code",
        "colab": {}
      },
      "source": [
        "def split_sequence(sequence, n_steps):\n",
        "        X, y = list(), list()\n",
        "        for i in range(len(sequence)):\n",
        "                end_ix = i + n_steps\n",
        "                if end_ix > len(sequence)-1:\n",
        "                        break\n",
        "                seq_x, seq_y = sequence[i:end_ix], sequence[end_ix]\n",
        "                X.append(seq_x)\n",
        "                y.append(seq_y)\n",
        "        return np.array(X), np.array(y)"
      ],
      "execution_count": 0,
      "outputs": []
    },
    {
      "cell_type": "code",
      "metadata": {
        "id": "OSeXsNH7ugsi",
        "colab_type": "code",
        "colab": {
          "base_uri": "https://localhost:8080/",
          "height": 51
        },
        "outputId": "722a56a7-c4c6-4b79-bb93-d7f4d94cfc6f"
      },
      "source": [
        "# define input sequence\n",
        "xaxis = np.arange(-50*np.pi, 50*np.pi, 0.1)\n",
        "train_seq = train_function(xaxis)\n",
        "n_steps = 20\n",
        "X, y = split_sequence(train_seq, n_steps)\n",
        "# reshape from [samples, timesteps] into [samples, timesteps, features]\n",
        "n_features = 1\n",
        "X = X.reshape((X.shape[0], X.shape[1], n_features))\n",
        "print(\"X.shape = {}\".format(X.shape))\n",
        "print(\"y.shape = {}\".format(y.shape))"
      ],
      "execution_count": 5,
      "outputs": [
        {
          "output_type": "stream",
          "text": [
            "X.shape = (3122, 20, 1)\n",
            "y.shape = (3122,)\n"
          ],
          "name": "stdout"
        }
      ]
    },
    {
      "cell_type": "code",
      "metadata": {
        "id": "Tno8O_wau1Ck",
        "colab_type": "code",
        "colab": {
          "base_uri": "https://localhost:8080/",
          "height": 1000
        },
        "outputId": "476c5b9a-9c47-425c-ea28-e9360647e0d2"
      },
      "source": [
        "history = model.fit(X, y, epochs=20, verbose=1)\n",
        "plt.plot(history.history['loss'], label=\"loss\")\n",
        "plt.legend(loc=\"upper right\")\n",
        "plt.show()"
      ],
      "execution_count": 6,
      "outputs": [
        {
          "output_type": "stream",
          "text": [
            "WARNING:tensorflow:From /usr/local/lib/python3.6/dist-packages/tensorflow_core/python/ops/resource_variable_ops.py:1630: calling BaseResourceVariable.__init__ (from tensorflow.python.ops.resource_variable_ops) with constraint is deprecated and will be removed in a future version.\n",
            "Instructions for updating:\n",
            "If using Keras pass *_constraint arguments to layers.\n",
            "WARNING:tensorflow:From /usr/local/lib/python3.6/dist-packages/tensorflow_core/python/ops/math_grad.py:1424: where (from tensorflow.python.ops.array_ops) is deprecated and will be removed in a future version.\n",
            "Instructions for updating:\n",
            "Use tf.where in 2.0, which has the same broadcast rule as np.where\n",
            "Train on 3122 samples\n",
            "Epoch 1/20\n",
            "3122/3122 [==============================] - 2s 785us/sample - loss: 0.2732\n",
            "Epoch 2/20\n",
            "3122/3122 [==============================] - 1s 414us/sample - loss: 0.0601\n",
            "Epoch 3/20\n",
            "3122/3122 [==============================] - 1s 395us/sample - loss: 0.0146\n",
            "Epoch 4/20\n",
            "3122/3122 [==============================] - 1s 403us/sample - loss: 0.0100\n",
            "Epoch 5/20\n",
            "3122/3122 [==============================] - 1s 399us/sample - loss: 0.0059\n",
            "Epoch 6/20\n",
            "3122/3122 [==============================] - 1s 394us/sample - loss: 0.0026\n",
            "Epoch 7/20\n",
            "3122/3122 [==============================] - 1s 396us/sample - loss: 0.0010\n",
            "Epoch 8/20\n",
            "3122/3122 [==============================] - 1s 398us/sample - loss: 5.3664e-04\n",
            "Epoch 9/20\n",
            "3122/3122 [==============================] - 1s 405us/sample - loss: 3.5746e-04\n",
            "Epoch 10/20\n",
            "3122/3122 [==============================] - 1s 399us/sample - loss: 2.7089e-04\n",
            "Epoch 11/20\n",
            "3122/3122 [==============================] - 1s 395us/sample - loss: 2.2112e-04\n",
            "Epoch 12/20\n",
            "3122/3122 [==============================] - 1s 399us/sample - loss: 1.8019e-04\n",
            "Epoch 13/20\n",
            "3122/3122 [==============================] - 1s 391us/sample - loss: 1.5543e-04\n",
            "Epoch 14/20\n",
            "3122/3122 [==============================] - 1s 400us/sample - loss: 1.3481e-04\n",
            "Epoch 15/20\n",
            "3122/3122 [==============================] - 1s 387us/sample - loss: 1.1543e-04\n",
            "Epoch 16/20\n",
            "3122/3122 [==============================] - 1s 413us/sample - loss: 1.0358e-04\n",
            "Epoch 17/20\n",
            "3122/3122 [==============================] - 1s 397us/sample - loss: 9.0028e-05\n",
            "Epoch 18/20\n",
            "3122/3122 [==============================] - 1s 411us/sample - loss: 8.1553e-05\n",
            "Epoch 19/20\n",
            "3122/3122 [==============================] - 1s 393us/sample - loss: 7.7446e-05\n",
            "Epoch 20/20\n",
            "3122/3122 [==============================] - 1s 396us/sample - loss: 7.2788e-05\n"
          ],
          "name": "stdout"
        },
        {
          "output_type": "display_data",
          "data": {
            "image/png": "[encoded data removed]",
            "text/plain": [
              "<Figure size 432x288 with 1 Axes>"
            ]
          },
          "metadata": {
            "tags": []
          }
        }
      ]
    },
    {
      "cell_type": "code",
      "metadata": {
        "id": "72utW_peu6or",
        "colab_type": "code",
        "colab": {}
      },
      "source": [
        ""
      ],
      "execution_count": 0,
      "outputs": []
    }
  ]
}